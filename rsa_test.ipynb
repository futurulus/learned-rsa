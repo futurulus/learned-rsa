{
 "cells": [
  {
   "cell_type": "code",
   "execution_count": 6,
   "metadata": {
    "collapsed": false
   },
   "outputs": [],
   "source": [
    "%matplotlib inline\n",
    "%load_ext autoreload\n",
    "%autoreload 2"
   ]
  },
  {
   "cell_type": "code",
   "execution_count": 7,
   "metadata": {
    "collapsed": false
   },
   "outputs": [],
   "source": [
    "from learning_rsa import LSLTrainer, FeatureVectorizer\n",
    "from collections import defaultdict"
   ]
  },
  {
   "cell_type": "code",
   "execution_count": 8,
   "metadata": {
    "collapsed": false
   },
   "outputs": [
    {
     "name": "stdout",
     "output_type": "stream",
     "text": [
      "featurizations_tensor.shape:\n",
      "(4, (3, 6))\n",
      "list[<class 'scipy.sparse.coo.coo_matrix'>]\n",
      "(4, 3, 6)\n",
      "(0,)\n"
     ]
    },
    {
     "data": {
      "image/png": "[encoded data removed]",
      "text/plain": [
       "<matplotlib.figure.Figure at 0x7fc9b7996bd0>"
      ]
     },
     "metadata": {},
     "output_type": "display_data"
    },
    {
     "name": "stdout",
     "output_type": "stream",
     "text": [
      "(1,)\n"
     ]
    },
    {
     "data": {
      "image/png": "[encoded data removed]",
      "text/plain": [
       "<matplotlib.figure.Figure at 0x7fc9b77e8d10>"
      ]
     },
     "metadata": {},
     "output_type": "display_data"
    },
    {
     "name": "stdout",
     "output_type": "stream",
     "text": [
      "(2,)\n"
     ]
    },
    {
     "data": {
      "image/png": "[encoded data removed]",
      "text/plain": [
       "<matplotlib.figure.Figure at 0x7fc9b76f6490>"
      ]
     },
     "metadata": {},
     "output_type": "display_data"
    },
    {
     "name": "stdout",
     "output_type": "stream",
     "text": [
      "(3,)\n"
     ]
    },
    {
     "data": {
      "image/png": "[encoded data removed]",
      "text/plain": [
       "<matplotlib.figure.Figure at 0x7fc9b76a3510>"
      ]
     },
     "metadata": {},
     "output_type": "display_data"
    },
    {
     "name": "stdout",
     "output_type": "stream",
     "text": [
      "(0, 0, 0) 0.0\n",
      "(0, 0, 1) 0.0\n",
      "(0, 0, 2) 0.0\n",
      "(0, 0, 3) 0.0\n",
      "(0, 0, 4) 0.0\n",
      "(0, 0, 5) 0.0\n",
      "(0, 1, 0) 0.0\n",
      "(0, 1, 1) 0.0\n",
      "(0, 1, 2) 0.0\n",
      "(0, 1, 3) 0.0\n",
      "(0, 1, 4) 0.0\n",
      "(0, 1, 5) 0.0\n",
      "(0, 2, 0) 0.0\n",
      "(0, 2, 1) 0.0\n",
      "(0, 2, 2) 0.0\n",
      "(0, 2, 3) 0.0\n",
      "(0, 2, 4) 0.0\n",
      "(0, 2, 5) 0.0\n",
      "(1, 0, 0) 1.0\n",
      "(1, 0, 1) 1.0\n",
      "(1, 0, 2) 0.0\n",
      "(1, 0, 3) 0.0\n",
      "(1, 0, 4) 0.0\n",
      "(1, 0, 5) 0.0\n",
      "(1, 1, 0) 1.0\n",
      "(1, 1, 1) 0.0\n",
      "(1, 1, 2) 0.0\n",
      "(1, 1, 3) 0.0\n",
      "(1, 1, 4) 1.0\n",
      "(1, 1, 5) 0.0\n",
      "(1, 2, 0) 1.0\n",
      "(1, 2, 1) 0.0\n",
      "(1, 2, 2) 0.0\n",
      "(1, 2, 3) 0.0\n",
      "(1, 2, 4) 0.0\n",
      "(1, 2, 5) 0.0\n",
      "(2, 0, 0) 0.0\n",
      "(2, 0, 1) 0.0\n",
      "(2, 0, 2) 1.0\n",
      "(2, 0, 3) 1.0\n",
      "(2, 0, 4) 0.0\n",
      "(2, 0, 5) 0.0\n",
      "(2, 1, 0) 0.0\n",
      "(2, 1, 1) 0.0\n",
      "(2, 1, 2) 0.0\n",
      "(2, 1, 3) 1.0\n",
      "(2, 1, 4) 0.0\n",
      "(2, 1, 5) 1.0\n",
      "(2, 2, 0) 0.0\n",
      "(2, 2, 1) 0.0\n",
      "(2, 2, 2) 0.0\n",
      "(2, 2, 3) 1.0\n",
      "(2, 2, 4) 0.0\n",
      "(2, 2, 5) 0.0\n",
      "(3, 0, 0) 1.0\n",
      "(3, 0, 1) 1.0\n",
      "(3, 0, 2) 1.0\n",
      "(3, 0, 3) 1.0\n",
      "(3, 0, 4) 0.0\n",
      "(3, 0, 5) 0.0\n",
      "(3, 1, 0) 1.0\n",
      "(3, 1, 1) 0.0\n",
      "(3, 1, 2) 0.0\n",
      "(3, 1, 3) 1.0\n",
      "(3, 1, 4) 1.0\n",
      "(3, 1, 5) 1.0\n",
      "(3, 2, 0) 1.0\n",
      "(3, 2, 1) 0.0\n",
      "(3, 2, 2) 0.0\n",
      "(3, 2, 3) 1.0\n",
      "(3, 2, 4) 0.0\n",
      "(3, 2, 5) 0.0\n",
      "weights.shape:\n",
      "(6, 1)\n",
      "<class 'scipy.sparse.coo.coo_matrix'>\n",
      "(6,)\n",
      "Literal scores:\n",
      "<type 'numpy.ndarray'>\n",
      "(3, 4)\n"
     ]
    },
    {
     "data": {
      "image/png": "[encoded data removed]",
      "text/plain": [
       "<matplotlib.figure.Figure at 0x7fc9b75d1690>"
      ]
     },
     "metadata": {},
     "output_type": "display_data"
    },
    {
     "name": "stdout",
     "output_type": "stream",
     "text": [
      "(0, 0) -1.38629436112\n",
      "(0, 1) -1.38629436112\n",
      "(0, 2) -1.38629436112\n",
      "(0, 3) -1.38629436112\n",
      "(1, 0) -1.38629436112\n",
      "(1, 1) -1.38629436112\n",
      "(1, 2) -1.38629436112\n",
      "(1, 3) -1.38629436112\n",
      "(2, 0) -1.38629436112\n",
      "(2, 1) -1.38629436112\n",
      "(2, 2) -1.38629436112\n",
      "(2, 3) -1.38629436112\n",
      "\n",
      "Literal-expected phi:\n",
      "<class 'scipy.sparse.csr.csr_matrix'>\n",
      "(3, 6)\n"
     ]
    },
    {
     "data": {
      "image/png": "[encoded data removed]",
      "text/plain": [
       "<matplotlib.figure.Figure at 0x7fc9b7518490>"
      ]
     },
     "metadata": {},
     "output_type": "display_data"
    },
    {
     "name": "stdout",
     "output_type": "stream",
     "text": [
      "(0, 0) 0.5\n",
      "(0, 1) 0.5\n",
      "(0, 2) 0.5\n",
      "(0, 3) 0.5\n",
      "(0, 4) 0.0\n",
      "(0, 5) 0.0\n",
      "(1, 0) 0.5\n",
      "(1, 1) 0.0\n",
      "(1, 2) 0.0\n",
      "(1, 3) 0.5\n",
      "(1, 4) 0.5\n",
      "(1, 5) 0.5\n",
      "(2, 0) 0.5\n",
      "(2, 1) 0.0\n",
      "(2, 2) 0.0\n",
      "(2, 3) 0.5\n",
      "(2, 4) 0.0\n",
      "(2, 5) 0.0\n",
      "\n",
      "Gradient of literal:\n",
      "list[<class 'scipy.sparse.csr.csr_matrix'>]\n",
      "(4, 3, 6)\n",
      "(0,)\n"
     ]
    },
    {
     "data": {
      "image/png": "[encoded data removed]",
      "text/plain": [
       "<matplotlib.figure.Figure at 0x7fc9b75184d0>"
      ]
     },
     "metadata": {},
     "output_type": "display_data"
    },
    {
     "name": "stdout",
     "output_type": "stream",
     "text": [
      "(1,)\n"
     ]
    },
    {
     "data": {
      "image/png": "[encoded data removed]",
      "text/plain": [
       "<matplotlib.figure.Figure at 0x7fc9b73ba1d0>"
      ]
     },
     "metadata": {},
     "output_type": "display_data"
    },
    {
     "name": "stdout",
     "output_type": "stream",
     "text": [
      "(2,)\n"
     ]
    },
    {
     "data": {
      "image/png": "[encoded data removed]",
      "text/plain": [
       "<matplotlib.figure.Figure at 0x7fc9b749be10>"
      ]
     },
     "metadata": {},
     "output_type": "display_data"
    },
    {
     "name": "stdout",
     "output_type": "stream",
     "text": [
      "(3,)\n"
     ]
    },
    {
     "data": {
      "image/png": "[encoded data removed]",
      "text/plain": [
       "<matplotlib.figure.Figure at 0x7fc9b7571650>"
      ]
     },
     "metadata": {},
     "output_type": "display_data"
    },
    {
     "name": "stdout",
     "output_type": "stream",
     "text": [
      "(0, 0, 0) -0.5\n",
      "(0, 0, 1) -0.5\n",
      "(0, 0, 2) -0.5\n",
      "(0, 0, 3) -0.5\n",
      "(0, 0, 4) 0.0\n",
      "(0, 0, 5) 0.0\n",
      "(0, 1, 0) -0.5\n",
      "(0, 1, 1) 0.0\n",
      "(0, 1, 2) 0.0\n",
      "(0, 1, 3) -0.5\n",
      "(0, 1, 4) -0.5\n",
      "(0, 1, 5) -0.5\n",
      "(0, 2, 0) -0.5\n",
      "(0, 2, 1) 0.0\n",
      "(0, 2, 2) 0.0\n",
      "(0, 2, 3) -0.5\n",
      "(0, 2, 4) 0.0\n",
      "(0, 2, 5) 0.0\n",
      "(1, 0, 0) 0.5\n",
      "(1, 0, 1) 0.5\n",
      "(1, 0, 2) -0.5\n",
      "(1, 0, 3) -0.5\n",
      "(1, 0, 4) 0.0\n",
      "(1, 0, 5) 0.0\n",
      "(1, 1, 0) 0.5\n",
      "(1, 1, 1) 0.0\n",
      "(1, 1, 2) 0.0\n",
      "(1, 1, 3) -0.5\n",
      "(1, 1, 4) 0.5\n",
      "(1, 1, 5) -0.5\n",
      "(1, 2, 0) 0.5\n",
      "(1, 2, 1) 0.0\n",
      "(1, 2, 2) 0.0\n",
      "(1, 2, 3) -0.5\n",
      "(1, 2, 4) 0.0\n",
      "(1, 2, 5) 0.0\n",
      "(2, 0, 0) -0.5\n",
      "(2, 0, 1) -0.5\n",
      "(2, 0, 2) 0.5\n",
      "(2, 0, 3) 0.5\n",
      "(2, 0, 4) 0.0\n",
      "(2, 0, 5) 0.0\n",
      "(2, 1, 0) -0.5\n",
      "(2, 1, 1) 0.0\n",
      "(2, 1, 2) 0.0\n",
      "(2, 1, 3) 0.5\n",
      "(2, 1, 4) -0.5\n",
      "(2, 1, 5) 0.5\n",
      "(2, 2, 0) -0.5\n",
      "(2, 2, 1) 0.0\n",
      "(2, 2, 2) 0.0\n",
      "(2, 2, 3) 0.5\n",
      "(2, 2, 4) 0.0\n",
      "(2, 2, 5) 0.0\n",
      "(3, 0, 0) 0.5\n",
      "(3, 0, 1) 0.5\n",
      "(3, 0, 2) 0.5\n",
      "(3, 0, 3) 0.5\n",
      "(3, 0, 4) 0.0\n",
      "(3, 0, 5) 0.0\n",
      "(3, 1, 0) 0.5\n",
      "(3, 1, 1) 0.0\n",
      "(3, 1, 2) 0.0\n",
      "(3, 1, 3) 0.5\n",
      "(3, 1, 4) 0.5\n",
      "(3, 1, 5) 0.5\n",
      "(3, 2, 0) 0.5\n",
      "(3, 2, 1) 0.0\n",
      "(3, 2, 2) 0.0\n",
      "(3, 2, 3) 0.5\n",
      "(3, 2, 4) 0.0\n",
      "(3, 2, 5) 0.0\n",
      "\n",
      "Speaker scores:\n",
      "<type 'numpy.ndarray'>\n",
      "(3, 4)\n"
     ]
    },
    {
     "data": {
      "image/png": "[encoded data removed]",
      "text/plain": [
       "<matplotlib.figure.Figure at 0x7fc9b78627d0>"
      ]
     },
     "metadata": {},
     "output_type": "display_data"
    },
    {
     "name": "stdout",
     "output_type": "stream",
     "text": [
      "(0, 0) -1.09861228867\n",
      "(0, 1) -1.09861228867\n",
      "(0, 2) -1.09861228867\n",
      "(0, 3) -1.09861228867\n",
      "(1, 0) -1.09861228867\n",
      "(1, 1) -1.09861228867\n",
      "(1, 2) -1.09861228867\n",
      "(1, 3) -1.09861228867\n",
      "(2, 0) -1.09861228867\n",
      "(2, 1) -1.09861228867\n",
      "(2, 2) -1.09861228867\n",
      "(2, 3) -1.09861228867\n",
      "\n",
      "Speaker-expected gradient of literal:\n",
      "<type 'numpy.ndarray'>\n",
      "(4, 6)\n"
     ]
    },
    {
     "data": {
      "image/png": "[encoded data removed]",
      "text/plain": [
       "<matplotlib.figure.Figure at 0x7fc9b748ab50>"
      ]
     },
     "metadata": {},
     "output_type": "display_data"
    },
    {
     "name": "stdout",
     "output_type": "stream",
     "text": [
      "(0, 0) -0.5\n",
      "(0, 1) -0.166666666667\n",
      "(0, 2) -0.166666666667\n",
      "(0, 3) -0.5\n",
      "(0, 4) -0.166666666667\n",
      "(0, 5) -0.166666666667\n",
      "(1, 0) 0.5\n",
      "(1, 1) 0.166666666667\n",
      "(1, 2) -0.166666666667\n",
      "(1, 3) -0.5\n",
      "(1, 4) 0.166666666667\n",
      "(1, 5) -0.166666666667\n",
      "(2, 0) -0.5\n",
      "(2, 1) -0.166666666667\n",
      "(2, 2) 0.166666666667\n",
      "(2, 3) 0.5\n",
      "(2, 4) -0.166666666667\n",
      "(2, 5) 0.166666666667\n",
      "(3, 0) 0.5\n",
      "(3, 1) 0.166666666667\n",
      "(3, 2) 0.166666666667\n",
      "(3, 3) 0.5\n",
      "(3, 4) 0.166666666667\n",
      "(3, 5) 0.166666666667\n",
      "\n",
      "Gradient of speaker:\n",
      "<type 'numpy.ndarray'>\n",
      "(4, 6)\n"
     ]
    },
    {
     "data": {
      "image/png": "[encoded data removed]",
      "text/plain": [
       "<matplotlib.figure.Figure at 0x7fc9b736dc90>"
      ]
     },
     "metadata": {},
     "output_type": "display_data"
    },
    {
     "name": "stdout",
     "output_type": "stream",
     "text": [
      "(0, 0) 0.0\n",
      "(0, 1) -0.333333333333\n",
      "(0, 2) -0.333333333333\n",
      "(0, 3) 0.0\n",
      "(0, 4) 0.166666666667\n",
      "(0, 5) 0.166666666667\n",
      "(1, 0) 0.0\n",
      "(1, 1) 0.333333333333\n",
      "(1, 2) -0.333333333333\n",
      "(1, 3) 0.0\n",
      "(1, 4) -0.166666666667\n",
      "(1, 5) 0.166666666667\n",
      "(2, 0) 0.0\n",
      "(2, 1) -0.333333333333\n",
      "(2, 2) 0.333333333333\n",
      "(2, 3) 0.0\n",
      "(2, 4) 0.166666666667\n",
      "(2, 5) -0.166666666667\n",
      "(3, 0) 0.0\n",
      "(3, 1) 0.333333333333\n",
      "(3, 2) 0.333333333333\n",
      "(3, 3) 0.0\n",
      "(3, 4) -0.166666666667\n",
      "(3, 5) -0.166666666667\n",
      "\n",
      "Listener scores:\n",
      "<type 'numpy.ndarray'>\n",
      "(4,)\n"
     ]
    },
    {
     "data": {
      "image/png": "[encoded data removed]",
      "text/plain": [
       "<matplotlib.figure.Figure at 0x7fc9b7773d50>"
      ]
     },
     "metadata": {},
     "output_type": "display_data"
    },
    {
     "name": "stdout",
     "output_type": "stream",
     "text": [
      "(0,) -1.38629436112\n",
      "(1,) -1.38629436112\n",
      "(2,) -1.38629436112\n",
      "(3,) -1.38629436112\n",
      "\n",
      "Listener-expected gradient of speaker:\n",
      "<type 'numpy.ndarray'>\n",
      "(6,)\n",
      "\n",
      "Gradient of listener (final gradient):\n",
      "<type 'numpy.ndarray'>\n",
      "(6,)\n",
      "0.333333333333 world->bob\n",
      "-0.166666666667 alice->alice\n",
      "-0.166666666667 alice->bob\n",
      "0.333333333333 world->alice\n"
     ]
    },
    {
     "data": {
      "text/plain": [
       "defaultdict(<type 'float'>, {'world->bob': 0.33333333333333337, 'alice->alice': -0.16666666666666666, 'alice->bob': -0.16666666666666666, 'world->alice': 0.33333333333333337})"
      ]
     },
     "execution_count": 8,
     "metadata": {},
     "output_type": "execute_result"
    }
   ],
   "source": [
    "def phi_unigrams(phrase, answer):\n",
    "    feats_dict = {'%s->%s' % (w, r): 1.0\n",
    "                  for w in phrase.split() for r in answer}\n",
    "    return defaultdict(float, feats_dict)\n",
    "\n",
    "MESSAGES = ['hello world', 'hello alice', 'hello']\n",
    "REFERENTS = [(), ('alice',), ('bob',), ('alice', 'bob')]\n",
    "\n",
    "'''\n",
    "weights = defaultdict(float,\n",
    "                      {'world->bob': 0.390,\n",
    "                       'world->alice': 0.455,\n",
    "                       'alice->bob': -1.854,\n",
    "                       'alice->alice': 1.315})\n",
    "'''\n",
    "weights = defaultdict(float)\n",
    "\n",
    "vec = FeatureVectorizer(phi_unigrams)\n",
    "for x in MESSAGES:\n",
    "    for y in REFERENTS:\n",
    "        for name in phi_unigrams(x, y):\n",
    "            vec.get_dim(name)\n",
    "\n",
    "trainer = LSLTrainer(phi=phi_unigrams)\n",
    "trainer.vectorizer = vec\n",
    "trainer.gradient('hello world', MESSAGES,\n",
    "                 ('alice', 'bob'), REFERENTS,\n",
    "                 weights,\n",
    "                 verbose=3)"
   ]
  },
  {
   "cell_type": "raw",
   "metadata": {},
   "source": [
    "Starting from filled-in weights:\n",
    "defaultdict(<type 'float'>, {'world->bob': 0.20945775283539719, 'alice->alice': -0.061718087477370787, 'hello->bob': 0.033327999737709113, 'hello->alice': -0.0067952062066051261, 'alice->bob': -0.086688579560132692, 'world->alice': 0.2683766257299684})\n",
    "\n",
    "Starting from zero weights:\n",
    "defaultdict(<type 'float'>, {'world->bob': 0.33333333333333337, 'alice->alice': -0.16666666666666666, 'alice->bob': -0.16666666666666666, 'world->alice': 0.33333333333333337})\n",
    "\n",
    "3,4,6\n",
    "3,4\n",
    "3,6\n",
    "3,4,6\n",
    "3,4\n",
    "4,6\n",
    "4,6\n",
    "4\n",
    "6\n",
    "6"
   ]
  },
  {
   "cell_type": "code",
   "execution_count": 12,
   "metadata": {
    "collapsed": false
   },
   "outputs": [
    {
     "data": {
      "text/plain": [
       "('alice', 'bob')"
      ]
     },
     "execution_count": 12,
     "metadata": {},
     "output_type": "execute_result"
    }
   ],
   "source": [
    "trainer.predict(x='hello',\n",
    "                w=weights,\n",
    "                messages=MESSAGES,\n",
    "                distractors=REFERENTS)"
   ]
  },
  {
   "cell_type": "code",
   "execution_count": 15,
   "metadata": {
    "collapsed": false
   },
   "outputs": [
    {
     "data": {
      "text/plain": [
       "('alice',)"
      ]
     },
     "execution_count": 15,
     "metadata": {},
     "output_type": "execute_result"
    }
   ],
   "source": [
    "from learning import LiteralTrainer\n",
    "LiteralTrainer(phi=phi_unigrams).predict(x='hello',\n",
    "                                         w=weights,\n",
    "                                         distractors=REFERENTS)"
   ]
  }
 ],
 "metadata": {
  "kernelspec": {
   "display_name": "Python 2",
   "language": "python",
   "name": "python2"
  },
  "language_info": {
   "codemirror_mode": {
    "name": "ipython",
    "version": 2
   },
   "file_extension": ".py",
   "mimetype": "text/x-python",
   "name": "python",
   "nbconvert_exporter": "python",
   "pygments_lexer": "ipython2",
   "version": "2.7.7"
  }
 },
 "nbformat": 4,
 "nbformat_minor": 0
}
